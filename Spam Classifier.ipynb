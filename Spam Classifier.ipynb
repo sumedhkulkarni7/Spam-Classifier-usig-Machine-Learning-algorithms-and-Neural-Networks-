{
 "cells": [
  {
   "cell_type": "markdown",
   "metadata": {},
   "source": [
    "## Spam Classifier usig Machine Learning algorithms and Neural Networks"
   ]
  },
  {
   "cell_type": "code",
   "execution_count": 1,
   "metadata": {},
   "outputs": [],
   "source": [
    "import numpy as np\n",
    "import pandas as pd\n",
    "import matplotlib.pyplot as plt\n",
    "import string\n",
    "from collections import Counter\n",
    "from sklearn import feature_extraction, model_selection, naive_bayes, metrics, svm\n",
    "from IPython.display import Image\n",
    "\n",
    "from nltk.stem import SnowballStemmer\n",
    "from nltk.corpus import stopwords\n",
    "from sklearn.feature_extraction.text import TfidfVectorizer\n",
    "from sklearn.model_selection import train_test_split\n",
    "import warnings\n",
    "warnings.filterwarnings(\"ignore\")\n",
    "%matplotlib inline  "
   ]
  },
  {
   "cell_type": "code",
   "execution_count": 2,
   "metadata": {},
   "outputs": [],
   "source": [
    "import nltk\n",
    "#nltk.download(\"stopwords\")"
   ]
  },
  {
   "cell_type": "markdown",
   "metadata": {},
   "source": [
    "### Exploring the dataset"
   ]
  },
  {
   "cell_type": "code",
   "execution_count": 3,
   "metadata": {},
   "outputs": [],
   "source": [
    "df = pd.read_csv('D:/Self.Study/Projects/Spam Classifier/spam.csv', encoding = 'latin-1')"
   ]
  },
  {
   "cell_type": "code",
   "execution_count": 4,
   "metadata": {},
   "outputs": [
    {
     "data": {
      "text/html": [
       "<div>\n",
       "<style scoped>\n",
       "    .dataframe tbody tr th:only-of-type {\n",
       "        vertical-align: middle;\n",
       "    }\n",
       "\n",
       "    .dataframe tbody tr th {\n",
       "        vertical-align: top;\n",
       "    }\n",
       "\n",
       "    .dataframe thead th {\n",
       "        text-align: right;\n",
       "    }\n",
       "</style>\n",
       "<table border=\"1\" class=\"dataframe\">\n",
       "  <thead>\n",
       "    <tr style=\"text-align: right;\">\n",
       "      <th></th>\n",
       "      <th>v1</th>\n",
       "      <th>v2</th>\n",
       "      <th>Unnamed: 2</th>\n",
       "      <th>Unnamed: 3</th>\n",
       "      <th>Unnamed: 4</th>\n",
       "    </tr>\n",
       "  </thead>\n",
       "  <tbody>\n",
       "    <tr>\n",
       "      <th>0</th>\n",
       "      <td>ham</td>\n",
       "      <td>Go until jurong point, crazy.. Available only ...</td>\n",
       "      <td>NaN</td>\n",
       "      <td>NaN</td>\n",
       "      <td>NaN</td>\n",
       "    </tr>\n",
       "    <tr>\n",
       "      <th>1</th>\n",
       "      <td>ham</td>\n",
       "      <td>Ok lar... Joking wif u oni...</td>\n",
       "      <td>NaN</td>\n",
       "      <td>NaN</td>\n",
       "      <td>NaN</td>\n",
       "    </tr>\n",
       "    <tr>\n",
       "      <th>2</th>\n",
       "      <td>spam</td>\n",
       "      <td>Free entry in 2 a wkly comp to win FA Cup fina...</td>\n",
       "      <td>NaN</td>\n",
       "      <td>NaN</td>\n",
       "      <td>NaN</td>\n",
       "    </tr>\n",
       "    <tr>\n",
       "      <th>3</th>\n",
       "      <td>ham</td>\n",
       "      <td>U dun say so early hor... U c already then say...</td>\n",
       "      <td>NaN</td>\n",
       "      <td>NaN</td>\n",
       "      <td>NaN</td>\n",
       "    </tr>\n",
       "    <tr>\n",
       "      <th>4</th>\n",
       "      <td>ham</td>\n",
       "      <td>Nah I don't think he goes to usf, he lives aro...</td>\n",
       "      <td>NaN</td>\n",
       "      <td>NaN</td>\n",
       "      <td>NaN</td>\n",
       "    </tr>\n",
       "  </tbody>\n",
       "</table>\n",
       "</div>"
      ],
      "text/plain": [
       "     v1                                                 v2 Unnamed: 2  \\\n",
       "0   ham  Go until jurong point, crazy.. Available only ...        NaN   \n",
       "1   ham                      Ok lar... Joking wif u oni...        NaN   \n",
       "2  spam  Free entry in 2 a wkly comp to win FA Cup fina...        NaN   \n",
       "3   ham  U dun say so early hor... U c already then say...        NaN   \n",
       "4   ham  Nah I don't think he goes to usf, he lives aro...        NaN   \n",
       "\n",
       "  Unnamed: 3 Unnamed: 4  \n",
       "0        NaN        NaN  \n",
       "1        NaN        NaN  \n",
       "2        NaN        NaN  \n",
       "3        NaN        NaN  \n",
       "4        NaN        NaN  "
      ]
     },
     "execution_count": 4,
     "metadata": {},
     "output_type": "execute_result"
    }
   ],
   "source": [
    "df.head()"
   ]
  },
  {
   "cell_type": "code",
   "execution_count": 5,
   "metadata": {},
   "outputs": [
    {
     "data": {
      "text/html": [
       "<div>\n",
       "<style scoped>\n",
       "    .dataframe tbody tr th:only-of-type {\n",
       "        vertical-align: middle;\n",
       "    }\n",
       "\n",
       "    .dataframe tbody tr th {\n",
       "        vertical-align: top;\n",
       "    }\n",
       "\n",
       "    .dataframe thead th {\n",
       "        text-align: right;\n",
       "    }\n",
       "</style>\n",
       "<table border=\"1\" class=\"dataframe\">\n",
       "  <thead>\n",
       "    <tr style=\"text-align: right;\">\n",
       "      <th></th>\n",
       "      <th>class</th>\n",
       "      <th>text</th>\n",
       "    </tr>\n",
       "  </thead>\n",
       "  <tbody>\n",
       "    <tr>\n",
       "      <th>0</th>\n",
       "      <td>ham</td>\n",
       "      <td>Go until jurong point, crazy.. Available only ...</td>\n",
       "    </tr>\n",
       "    <tr>\n",
       "      <th>1</th>\n",
       "      <td>ham</td>\n",
       "      <td>Ok lar... Joking wif u oni...</td>\n",
       "    </tr>\n",
       "    <tr>\n",
       "      <th>2</th>\n",
       "      <td>spam</td>\n",
       "      <td>Free entry in 2 a wkly comp to win FA Cup fina...</td>\n",
       "    </tr>\n",
       "    <tr>\n",
       "      <th>3</th>\n",
       "      <td>ham</td>\n",
       "      <td>U dun say so early hor... U c already then say...</td>\n",
       "    </tr>\n",
       "    <tr>\n",
       "      <th>4</th>\n",
       "      <td>ham</td>\n",
       "      <td>Nah I don't think he goes to usf, he lives aro...</td>\n",
       "    </tr>\n",
       "  </tbody>\n",
       "</table>\n",
       "</div>"
      ],
      "text/plain": [
       "  class                                               text\n",
       "0   ham  Go until jurong point, crazy.. Available only ...\n",
       "1   ham                      Ok lar... Joking wif u oni...\n",
       "2  spam  Free entry in 2 a wkly comp to win FA Cup fina...\n",
       "3   ham  U dun say so early hor... U c already then say...\n",
       "4   ham  Nah I don't think he goes to usf, he lives aro..."
      ]
     },
     "execution_count": 5,
     "metadata": {},
     "output_type": "execute_result"
    }
   ],
   "source": [
    "df = df.drop([\"Unnamed: 2\", \"Unnamed: 3\", \"Unnamed: 4\"], axis=1)\n",
    "df = df.rename(columns={\"v1\":\"class\", \"v2\":\"text\"})\n",
    "df.head()"
   ]
  },
  {
   "cell_type": "code",
   "execution_count": 6,
   "metadata": {},
   "outputs": [],
   "source": [
    "df['length'] = df['text'].apply(len)"
   ]
  },
  {
   "cell_type": "code",
   "execution_count": 7,
   "metadata": {},
   "outputs": [
    {
     "data": {
      "text/html": [
       "<div>\n",
       "<style scoped>\n",
       "    .dataframe tbody tr th:only-of-type {\n",
       "        vertical-align: middle;\n",
       "    }\n",
       "\n",
       "    .dataframe tbody tr th {\n",
       "        vertical-align: top;\n",
       "    }\n",
       "\n",
       "    .dataframe thead th {\n",
       "        text-align: right;\n",
       "    }\n",
       "</style>\n",
       "<table border=\"1\" class=\"dataframe\">\n",
       "  <thead>\n",
       "    <tr style=\"text-align: right;\">\n",
       "      <th></th>\n",
       "      <th>class</th>\n",
       "      <th>text</th>\n",
       "      <th>length</th>\n",
       "    </tr>\n",
       "  </thead>\n",
       "  <tbody>\n",
       "    <tr>\n",
       "      <th>0</th>\n",
       "      <td>ham</td>\n",
       "      <td>Go until jurong point, crazy.. Available only ...</td>\n",
       "      <td>111</td>\n",
       "    </tr>\n",
       "    <tr>\n",
       "      <th>1</th>\n",
       "      <td>ham</td>\n",
       "      <td>Ok lar... Joking wif u oni...</td>\n",
       "      <td>29</td>\n",
       "    </tr>\n",
       "    <tr>\n",
       "      <th>2</th>\n",
       "      <td>spam</td>\n",
       "      <td>Free entry in 2 a wkly comp to win FA Cup fina...</td>\n",
       "      <td>155</td>\n",
       "    </tr>\n",
       "    <tr>\n",
       "      <th>3</th>\n",
       "      <td>ham</td>\n",
       "      <td>U dun say so early hor... U c already then say...</td>\n",
       "      <td>49</td>\n",
       "    </tr>\n",
       "    <tr>\n",
       "      <th>4</th>\n",
       "      <td>ham</td>\n",
       "      <td>Nah I don't think he goes to usf, he lives aro...</td>\n",
       "      <td>61</td>\n",
       "    </tr>\n",
       "  </tbody>\n",
       "</table>\n",
       "</div>"
      ],
      "text/plain": [
       "  class                                               text  length\n",
       "0   ham  Go until jurong point, crazy.. Available only ...     111\n",
       "1   ham                      Ok lar... Joking wif u oni...      29\n",
       "2  spam  Free entry in 2 a wkly comp to win FA Cup fina...     155\n",
       "3   ham  U dun say so early hor... U c already then say...      49\n",
       "4   ham  Nah I don't think he goes to usf, he lives aro...      61"
      ]
     },
     "execution_count": 7,
     "metadata": {},
     "output_type": "execute_result"
    }
   ],
   "source": [
    "df.head()"
   ]
  },
  {
   "cell_type": "markdown",
   "metadata": {},
   "source": [
    "#### Visualizing the dataset\n",
    "* Here we will be using three plot:\n",
    "                        1. Bar plots\n",
    "                        2. Pie charts\n",
    "                        3. Histogram plots"
   ]
  },
  {
   "cell_type": "code",
   "execution_count": 8,
   "metadata": {},
   "outputs": [
    {
     "data": {
      "image/png": "[encoded data removed]",
      "text/plain": [
       "<Figure size 432x288 with 1 Axes>"
      ]
     },
     "metadata": {},
     "output_type": "display_data"
    }
   ],
   "source": [
    "count_Class = pd.value_counts(df[\"class\"], sort= True)\n",
    "count_Class.plot(kind = 'bar', color= [\"green\", \"red\"])\n",
    "plt.title('Bar chart for the classification')\n",
    "plt.show()"
   ]
  },
  {
   "cell_type": "code",
   "execution_count": 9,
   "metadata": {},
   "outputs": [
    {
     "data": {
      "image/png": "[encoded data removed]",
      "text/plain": [
       "<Figure size 432x288 with 1 Axes>"
      ]
     },
     "metadata": {},
     "output_type": "display_data"
    }
   ],
   "source": [
    "count_Class.plot(kind = 'pie',  autopct='%1.0f%%')\n",
    "plt.title('Pie chart')\n",
    "plt.ylabel('')\n",
    "plt.show()"
   ]
  },
  {
   "cell_type": "code",
   "execution_count": 10,
   "metadata": {},
   "outputs": [
    {
     "data": {
      "image/png": "[encoded data removed]",
      "text/plain": [
       "<Figure size 432x288 with 1 Axes>"
      ]
     },
     "metadata": {},
     "output_type": "display_data"
    }
   ],
   "source": [
    "count_Class.hist(bins = 50, density=True, color='blue', facecolor='g', alpha=0.75)\n",
    "plt.title('Histogram')\n",
    "plt.ylabel('')\n",
    "plt.show()"
   ]
  },
  {
   "cell_type": "markdown",
   "metadata": {},
   "source": [
    "### Text Analysis"
   ]
  },
  {
   "cell_type": "markdown",
   "metadata": {},
   "source": [
    " So to apply a model, the necessary preprocessing must be done. For text classification, usual preprocessing includes removing the stop words (words that don't provide us with useful meaning, like the words \"and\" \"or\"). Also the characters are converted to a single case (the below function converts to lower case). The function below then stems each word (this means that it replaces a word with the root of that word, for example \"tasted\" or \"tasting\" would become \"taste\")."
   ]
  },
  {
   "cell_type": "code",
   "execution_count": 8,
   "metadata": {},
   "outputs": [],
   "source": [
    "def pre_process(text):\n",
    "    \n",
    "    text = text.translate(str.maketrans('', '', string.punctuation))\n",
    "    text = [word for word in text.split() if word.lower() not in stopwords.words('english')]\n",
    "    words = \"\"\n",
    "    for i in text:\n",
    "            stemmer = SnowballStemmer(\"english\")\n",
    "            words += (stemmer.stem(i))+\" \"\n",
    "    return words"
   ]
  },
  {
   "cell_type": "code",
   "execution_count": 9,
   "metadata": {},
   "outputs": [],
   "source": [
    "textFeatures = df['text'].copy()\n",
    "textFeatures = textFeatures.apply(pre_process)\n",
    "vectorizer = TfidfVectorizer(\"english\")\n",
    "features = vectorizer.fit_transform(textFeatures)\n",
    "\n",
    "features_train, features_test, labels_train, labels_test = train_test_split(features, df['class'], test_size=0.3, random_state = 111)"
   ]
  },
  {
   "cell_type": "code",
   "execution_count": 12,
   "metadata": {},
   "outputs": [
    {
     "data": {
      "text/plain": [
       "(<3900x8037 sparse matrix of type '<class 'numpy.float64'>'\n",
       " \twith 32950 stored elements in Compressed Sparse Row format>, 3466    spam\n",
       " 3559     ham\n",
       " 1657     ham\n",
       " 110      ham\n",
       " 1010     ham\n",
       " 3877     ham\n",
       " 2209     ham\n",
       " 5487    spam\n",
       " 4018    spam\n",
       " 2850     ham\n",
       " 1475     ham\n",
       " 4879     ham\n",
       " 4341     ham\n",
       " 2514     ham\n",
       " 2508     ham\n",
       " 2025     ham\n",
       " 2552     ham\n",
       " 1900     ham\n",
       " 1187     ham\n",
       " 3703     ham\n",
       " 4848     ham\n",
       " 4488     ham\n",
       " 4027     ham\n",
       " 5469     ham\n",
       " 5055     ham\n",
       " 512      ham\n",
       " 3149     ham\n",
       " 4565     ham\n",
       " 1944     ham\n",
       " 3523     ham\n",
       "         ... \n",
       " 324      ham\n",
       " 3542     ham\n",
       " 747     spam\n",
       " 2610     ham\n",
       " 525      ham\n",
       " 1567     ham\n",
       " 2382     ham\n",
       " 1722     ham\n",
       " 3020     ham\n",
       " 4133     ham\n",
       " 2760     ham\n",
       " 1045     ham\n",
       " 2466     ham\n",
       " 5390     ham\n",
       " 5404     ham\n",
       " 728      ham\n",
       " 1904     ham\n",
       " 1473     ham\n",
       " 3338     ham\n",
       " 5388     ham\n",
       " 5127     ham\n",
       " 953      ham\n",
       " 5063     ham\n",
       " 2856     ham\n",
       " 4214     ham\n",
       " 681      ham\n",
       " 4182     ham\n",
       " 4820     ham\n",
       " 2004     ham\n",
       " 3924     ham\n",
       " Name: class, Length: 3900, dtype: object)"
      ]
     },
     "execution_count": 12,
     "metadata": {},
     "output_type": "execute_result"
    }
   ],
   "source": [
    "features_train, labels_train"
   ]
  },
  {
   "cell_type": "markdown",
   "metadata": {},
   "source": [
    "### Support Vector Machine"
   ]
  },
  {
   "cell_type": "code",
   "execution_count": 15,
   "metadata": {},
   "outputs": [
    {
     "data": {
      "text/plain": [
       "0.979066985645933"
      ]
     },
     "execution_count": 15,
     "metadata": {},
     "output_type": "execute_result"
    }
   ],
   "source": [
    "from sklearn.metrics import accuracy_score\n",
    "from sklearn.svm import SVC\n",
    "\n",
    "svc = SVC(kernel='sigmoid', gamma=1.24)\n",
    "svc.fit(features_train, labels_train)\n",
    "prediction = svc.predict(features_test)\n",
    "accuracy_score(labels_test,prediction)"
   ]
  },
  {
   "cell_type": "markdown",
   "metadata": {},
   "source": [
    "### Naive Bayes"
   ]
  },
  {
   "cell_type": "markdown",
   "metadata": {},
   "source": [
    "Naive Bayes is a simple technique for constructing classifiers: models that assign class labels to problem instances, represented as vectors of feature values, where the class labels are drawn from some finite set. Naive Bayes is a conditional probability statistical model. The formulae for the same is given as:\n",
    "\n",
    "$$ {\\displaystyle p(C_{k}\\mid \\mathbf {x} )={\\frac {p(C_{k})\\ p(\\mathbf {x} \\mid C_{k})}{p(\\mathbf {x} )}}\\,} $$\n",
    "\n",
    "In plain English, using Bayesian probability terminology, the above equation can be written as:\n",
    "\n",
    "$$ {\\displaystyle {\\text{posterior}}={\\frac {{\\text{prior}}\\times {\\text{likelihood}}}{\\text{evidence}}}\\,} $$"
   ]
  },
  {
   "cell_type": "code",
   "execution_count": 16,
   "metadata": {},
   "outputs": [
    {
     "data": {
      "text/plain": [
       "0.9856459330143541"
      ]
     },
     "execution_count": 16,
     "metadata": {},
     "output_type": "execute_result"
    }
   ],
   "source": [
    "from sklearn.naive_bayes import MultinomialNB\n",
    "\n",
    "naive_bayes = MultinomialNB(alpha = 0.16)\n",
    "naive_bayes.fit(features_train, labels_train)\n",
    "prediction = naive_bayes.predict(features_test)\n",
    "accuracy_score(labels_test,prediction)"
   ]
  },
  {
   "cell_type": "markdown",
   "metadata": {},
   "source": [
    "### Will the results improve if we use Neural Networks?"
   ]
  },
  {
   "cell_type": "markdown",
   "metadata": {},
   "source": [
    "### Convolutional Neural Networks"
   ]
  },
  {
   "cell_type": "code",
   "execution_count": 17,
   "metadata": {},
   "outputs": [
    {
     "name": "stderr",
     "output_type": "stream",
     "text": [
      "Using TensorFlow backend.\n"
     ]
    }
   ],
   "source": [
    "from keras.models import Sequential\n",
    "from keras.layers import Dense\n",
    "import tensorflow as tf"
   ]
  },
  {
   "cell_type": "markdown",
   "metadata": {},
   "source": [
    "#### Creating the model"
   ]
  },
  {
   "cell_type": "code",
   "execution_count": 20,
   "metadata": {},
   "outputs": [
    {
     "name": "stdout",
     "output_type": "stream",
     "text": [
      "Epoch 1/75\n",
      "3900/3900 [==============================] - 3s 787us/step - loss: 0.1598 - acc: 0.9459\n",
      "Epoch 2/75\n",
      "3900/3900 [==============================] - 2s 541us/step - loss: 0.0152 - acc: 0.9959\n",
      "Epoch 3/75\n",
      "3900/3900 [==============================] - 2s 552us/step - loss: 0.0025 - acc: 0.9992\n",
      "Epoch 4/75\n",
      "3900/3900 [==============================] - 2s 556us/step - loss: 1.4764e-04 - acc: 1.0000\n",
      "Epoch 5/75\n",
      "3900/3900 [==============================] - 2s 563us/step - loss: 8.5925e-06 - acc: 1.0000\n",
      "Epoch 6/75\n",
      "3900/3900 [==============================] - 2s 544us/step - loss: 4.6293e-06 - acc: 1.0000\n",
      "Epoch 7/75\n",
      "3900/3900 [==============================] - 2s 560us/step - loss: 2.3477e-06 - acc: 1.0000\n",
      "Epoch 8/75\n",
      "3900/3900 [==============================] - 2s 589us/step - loss: 1.2442e-06 - acc: 1.0000\n",
      "Epoch 9/75\n",
      "3900/3900 [==============================] - 2s 611us/step - loss: 7.2623e-07 - acc: 1.0000\n",
      "Epoch 10/75\n",
      "3900/3900 [==============================] - 2s 553us/step - loss: 4.7300e-07 - acc: 1.0000\n",
      "Epoch 11/75\n",
      "3900/3900 [==============================] - 2s 559us/step - loss: 3.4468e-07 - acc: 1.0000\n",
      "Epoch 12/75\n",
      "3900/3900 [==============================] - 2s 551us/step - loss: 2.7034e-07 - acc: 1.0000\n",
      "Epoch 13/75\n",
      "3900/3900 [==============================] - 2s 557us/step - loss: 2.2637e-07 - acc: 1.0000\n",
      "Epoch 14/75\n",
      "3900/3900 [==============================] - 2s 550us/step - loss: 1.9707e-07 - acc: 1.0000\n",
      "Epoch 15/75\n",
      "3900/3900 [==============================] - 2s 557us/step - loss: 1.7701e-07 - acc: 1.0000\n",
      "Epoch 16/75\n",
      "3900/3900 [==============================] - 2s 558us/step - loss: 1.6210e-07 - acc: 1.0000\n",
      "Epoch 17/75\n",
      "3900/3900 [==============================] - 2s 562us/step - loss: 1.5124e-07 - acc: 1.0000\n",
      "Epoch 18/75\n",
      "3900/3900 [==============================] - 2s 540us/step - loss: 1.4343e-07 - acc: 1.0000\n",
      "Epoch 19/75\n",
      "3900/3900 [==============================] - 2s 551us/step - loss: 1.3772e-07 - acc: 1.0000\n",
      "Epoch 20/75\n",
      "3900/3900 [==============================] - 2s 563us/step - loss: 1.3340e-07 - acc: 1.0000\n",
      "Epoch 21/75\n",
      "3900/3900 [==============================] - 2s 551us/step - loss: 1.3010e-07 - acc: 1.0000\n",
      "Epoch 22/75\n",
      "3900/3900 [==============================] - 2s 556us/step - loss: 1.2755e-07 - acc: 1.0000\n",
      "Epoch 23/75\n",
      "3900/3900 [==============================] - 2s 550us/step - loss: 1.2559e-07 - acc: 1.0000\n",
      "Epoch 24/75\n",
      "3900/3900 [==============================] - 2s 541us/step - loss: 1.2404e-07 - acc: 1.0000\n",
      "Epoch 25/75\n",
      "3900/3900 [==============================] - 2s 540us/step - loss: 1.2261e-07 - acc: 1.0000\n",
      "Epoch 26/75\n",
      "3900/3900 [==============================] - 2s 537us/step - loss: 1.2159e-07 - acc: 1.0000\n",
      "Epoch 27/75\n",
      "3900/3900 [==============================] - 2s 560us/step - loss: 1.2061e-07 - acc: 1.0000\n",
      "Epoch 28/75\n",
      "3900/3900 [==============================] - 2s 540us/step - loss: 1.1990e-07 - acc: 1.0000\n",
      "Epoch 29/75\n",
      "3900/3900 [==============================] - 2s 541us/step - loss: 1.1934e-07 - acc: 1.0000\n",
      "Epoch 30/75\n",
      "3900/3900 [==============================] - 2s 543us/step - loss: 1.1890e-07 - acc: 1.0000\n",
      "Epoch 31/75\n",
      "3900/3900 [==============================] - 2s 540us/step - loss: 1.1845e-07 - acc: 1.0000\n",
      "Epoch 32/75\n",
      "3900/3900 [==============================] - 2s 546us/step - loss: 1.1825e-07 - acc: 1.0000\n",
      "Epoch 33/75\n",
      "3900/3900 [==============================] - 2s 540us/step - loss: 1.1786e-07 - acc: 1.0000\n",
      "Epoch 34/75\n",
      "3900/3900 [==============================] - 2s 556us/step - loss: 1.1771e-07 - acc: 1.0000\n",
      "Epoch 35/75\n",
      "3900/3900 [==============================] - 2s 539us/step - loss: 1.1756e-07 - acc: 1.0000\n",
      "Epoch 36/75\n",
      "3900/3900 [==============================] - 2s 542us/step - loss: 1.1733e-07 - acc: 1.0000\n",
      "Epoch 37/75\n",
      "3900/3900 [==============================] - 2s 591us/step - loss: 1.1712e-07 - acc: 1.0000\n",
      "Epoch 38/75\n",
      "3900/3900 [==============================] - 2s 555us/step - loss: 1.1705e-07 - acc: 1.0000\n",
      "Epoch 39/75\n",
      "3900/3900 [==============================] - 2s 577us/step - loss: 1.1700e-07 - acc: 1.0000\n",
      "Epoch 40/75\n",
      "3900/3900 [==============================] - 2s 575us/step - loss: 1.1692e-07 - acc: 1.0000\n",
      "Epoch 41/75\n",
      "3900/3900 [==============================] - 2s 539us/step - loss: 1.1689e-07 - acc: 1.0000\n",
      "Epoch 42/75\n",
      "3900/3900 [==============================] - 2s 542us/step - loss: 1.1684e-07 - acc: 1.0000\n",
      "Epoch 43/75\n",
      "3900/3900 [==============================] - 2s 552us/step - loss: 1.1680e-07 - acc: 1.0000\n",
      "Epoch 44/75\n",
      "3900/3900 [==============================] - 2s 559us/step - loss: 1.1678e-07 - acc: 1.0000\n",
      "Epoch 45/75\n",
      "3900/3900 [==============================] - 2s 588us/step - loss: 1.1675e-07 - acc: 1.0000\n",
      "Epoch 46/75\n",
      "3900/3900 [==============================] - 2s 563us/step - loss: 1.1674e-07 - acc: 1.0000\n",
      "Epoch 47/75\n",
      "3900/3900 [==============================] - 2s 586us/step - loss: 1.1673e-07 - acc: 1.0000\n",
      "Epoch 48/75\n",
      "3900/3900 [==============================] - 2s 566us/step - loss: 1.1673e-07 - acc: 1.0000\n",
      "Epoch 49/75\n",
      "3900/3900 [==============================] - 2s 572us/step - loss: 1.1670e-07 - acc: 1.0000\n",
      "Epoch 50/75\n",
      "3900/3900 [==============================] - 2s 562us/step - loss: 1.1670e-07 - acc: 1.0000\n",
      "Epoch 51/75\n",
      "3900/3900 [==============================] - 2s 539us/step - loss: 1.1670e-07 - acc: 1.0000\n",
      "Epoch 52/75\n",
      "3900/3900 [==============================] - 2s 545us/step - loss: 1.1670e-07 - acc: 1.0000\n",
      "Epoch 53/75\n",
      "3900/3900 [==============================] - 2s 544us/step - loss: 1.1667e-07 - acc: 1.0000\n",
      "Epoch 54/75\n",
      "3900/3900 [==============================] - 2s 556us/step - loss: 1.1667e-07 - acc: 1.0000\n",
      "Epoch 55/75\n",
      "3900/3900 [==============================] - 2s 561us/step - loss: 1.1667e-07 - acc: 1.0000\n",
      "Epoch 56/75\n",
      "3900/3900 [==============================] - 2s 547us/step - loss: 1.1667e-07 - acc: 1.0000\n",
      "Epoch 57/75\n",
      "3900/3900 [==============================] - 2s 557us/step - loss: 1.1667e-07 - acc: 1.0000\n",
      "Epoch 58/75\n",
      "3900/3900 [==============================] - 2s 553us/step - loss: 1.1667e-07 - acc: 1.0000\n",
      "Epoch 59/75\n",
      "3900/3900 [==============================] - 2s 554us/step - loss: 1.1667e-07 - acc: 1.0000\n",
      "Epoch 60/75\n",
      "3900/3900 [==============================] - 2s 564us/step - loss: 1.1667e-07 - acc: 1.0000\n",
      "Epoch 61/75\n",
      "3900/3900 [==============================] - 2s 566us/step - loss: 1.1667e-07 - acc: 1.0000\n",
      "Epoch 62/75\n",
      "3900/3900 [==============================] - 2s 544us/step - loss: 1.1667e-07 - acc: 1.0000\n",
      "Epoch 63/75\n",
      "3900/3900 [==============================] - 2s 538us/step - loss: 1.1667e-07 - acc: 1.0000\n",
      "Epoch 64/75\n",
      "3900/3900 [==============================] - 2s 540us/step - loss: 1.1667e-07 - acc: 1.0000\n",
      "Epoch 65/75\n",
      "3900/3900 [==============================] - 2s 544us/step - loss: 1.1667e-07 - acc: 1.0000\n",
      "Epoch 66/75\n",
      "3900/3900 [==============================] - 2s 560us/step - loss: 1.1667e-07 - acc: 1.0000\n",
      "Epoch 67/75\n",
      "3900/3900 [==============================] - 2s 549us/step - loss: 1.1667e-07 - acc: 1.0000\n",
      "Epoch 68/75\n",
      "3900/3900 [==============================] - 2s 561us/step - loss: 1.1667e-07 - acc: 1.0000\n",
      "Epoch 69/75\n",
      "3900/3900 [==============================] - 2s 553us/step - loss: 1.1667e-07 - acc: 1.0000\n",
      "Epoch 70/75\n",
      "3900/3900 [==============================] - 2s 555us/step - loss: 1.1667e-07 - acc: 1.0000\n",
      "Epoch 71/75\n",
      "3900/3900 [==============================] - 2s 556us/step - loss: 1.1667e-07 - acc: 1.0000\n",
      "Epoch 72/75\n",
      "3900/3900 [==============================] - 2s 567us/step - loss: 1.1667e-07 - acc: 1.0000\n",
      "Epoch 73/75\n",
      "3900/3900 [==============================] - 2s 561us/step - loss: 1.1667e-07 - acc: 1.0000\n",
      "Epoch 74/75\n",
      "3900/3900 [==============================] - 2s 556us/step - loss: 1.1667e-07 - acc: 1.0000\n",
      "Epoch 75/75\n",
      "3900/3900 [==============================] - 2s 552us/step - loss: 1.1667e-07 - acc: 1.0000\n"
     ]
    },
    {
     "data": {
      "text/plain": [
       "0.9838516746411483"
      ]
     },
     "execution_count": 20,
     "metadata": {},
     "output_type": "execute_result"
    }
   ],
   "source": [
    "model = Sequential()\n",
    "model.add(Dense(256, input_dim=8037, activation='relu'))\n",
    "model.add(Dense(128, activation='relu'))\n",
    "model.add(Dense(64, activation='relu'))\n",
    "model.add(Dense(32, activation='relu'))\n",
    "model.add(Dense(8037, activation='relu'))\n",
    "model.add(Dense(1, activation='sigmoid'))\n",
    "model.compile(loss='binary_crossentropy', optimizer='adam', metrics=['accuracy'])\n",
    "\n",
    "new_labels_train = []\n",
    "for i in labels_train:\n",
    "    if i == \"ham\":\n",
    "        new_labels_train.extend('1')\n",
    "    else:\n",
    "        new_labels_train.extend('0')\n",
    "model.fit(features_train, pd.Series(new_labels_train), epochs=75, batch_size=10)\n",
    "predictions = model.predict(features_test)\n",
    "rounded = [round(x[0]) for x in predictions]\n",
    "\n",
    "from sklearn.metrics import accuracy_score\n",
    "\n",
    "new_labels_test=[]\n",
    "for i in labels_test:\n",
    "    if i == \"ham\":\n",
    "        new_labels_test.append(1.0)\n",
    "    else:\n",
    "        new_labels_test.append(0.0)\n",
    "accuracy_score(new_labels_test, rounded)"
   ]
  },
  {
   "cell_type": "markdown",
   "metadata": {},
   "source": []
  },
  {
   "cell_type": "code",
   "execution_count": null,
   "metadata": {},
   "outputs": [],
   "source": []
  }
 ],
 "metadata": {
  "kernelspec": {
   "display_name": "Python 3",
   "language": "python",
   "name": "python3"
  },
  "language_info": {
   "codemirror_mode": {
    "name": "ipython",
    "version": 3
   },
   "file_extension": ".py",
   "mimetype": "text/x-python",
   "name": "python",
   "nbconvert_exporter": "python",
   "pygments_lexer": "ipython3",
   "version": "3.6.5"
  }
 },
 "nbformat": 4,
 "nbformat_minor": 2
}
